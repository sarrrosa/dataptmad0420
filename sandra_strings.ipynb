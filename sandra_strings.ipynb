{
 "cells": [
  {
   "cell_type": "code",
   "execution_count": null,
   "metadata": {},
   "outputs": [],
   "source": [
    "a = 'Hello'\n",
    "b= 'dog'\n",
    "\n",
    "print(f'{a} beautiful {b}')"
   ]
  },
  {
   "cell_type": "code",
   "execution_count": null,
   "metadata": {},
   "outputs": [],
   "source": [
    "mystring = ''\n",
    "for i in z:\n",
    "    mystring += i + ' '\n",
    "\n",
    "print(mystring[:1])\n",
    "print(mystring.strip())"
   ]
  },
  {
   "cell_type": "code",
   "execution_count": null,
   "metadata": {},
   "outputs": [],
   "source": [
    "([]) lista\n",
    "() length de un string"
   ]
  },
  {
   "cell_type": "code",
   "execution_count": null,
   "metadata": {},
   "outputs": [],
   "source": [
    "word[:4]) -> igual que [0:4] del 1 al 4 y la última no se cuenta"
   ]
  },
  {
   "cell_type": "code",
   "execution_count": null,
   "metadata": {},
   "outputs": [],
   "source": [
    "[0:4:2] -> Print at -> Que vaya de 2 en 2"
   ]
  },
  {
   "cell_type": "code",
   "execution_count": null,
   "metadata": {},
   "outputs": [],
   "source": [
    "[0:4:2] -> Primer caracter:límite de caracteres:saltos que tienes que hacer)"
   ]
  },
  {
   "cell_type": "code",
   "execution_count": null,
   "metadata": {},
   "outputs": [],
   "source": [
    "[4:] obviamos las 4 primeras y cogemos el resto"
   ]
  },
  {
   "cell_type": "code",
   "execution_count": null,
   "metadata": {},
   "outputs": [],
   "source": [
    "print(word[-3:]) -> ile (empezamos en -3 y vamos hasta el final)"
   ]
  },
  {
   "cell_type": "code",
   "execution_count": null,
   "metadata": {},
   "outputs": [],
   "source": [
    "print(word[-4]) -> El contador al revés no cuenta el 0"
   ]
  },
  {
   "cell_type": "code",
   "execution_count": null,
   "metadata": {},
   "outputs": [],
   "source": [
    "print(word[-3:len(word):2]) -> Len para que coja hasta el final de la palabra"
   ]
  },
  {
   "cell_type": "code",
   "execution_count": 10,
   "metadata": {},
   "outputs": [
    {
     "name": "stdout",
     "output_type": "stream",
     "text": [
      "elibomotua\n"
     ]
    }
   ],
   "source": [
    "word = 'automobile'\n",
    "\n",
    "print(word[len(word)::-1])"
   ]
  },
  {
   "cell_type": "code",
   "execution_count": 14,
   "metadata": {},
   "outputs": [
    {
     "name": "stdout",
     "output_type": "stream",
     "text": [
      "['They ate the mystery meat', ' It tasted like chicken', '']\n",
      "['They ate the ', 'ystery ', 'eat. It tasted like chicken.']\n",
      "['They ate the mystery ', '. It tasted like chicken.']\n",
      "['They', 'ate', 'the', 'mystery', 'meat.', 'It', 'tasted', 'like', 'chicken.']\n"
     ]
    }
   ],
   "source": [
    "#OPERACIONES CON STRINGS\n",
    "\n",
    "a = 'They ate the mystery meat. It tasted like chicken.'\n",
    "\n",
    "print(a.split('.'))\n",
    "#Lo elimina en 3 porque lo que hace el split es que busca y divide en lista todo lo que está a la izquierda y a la derecha\n",
    "print(a.split('m'))\n",
    "#Se come la m y divide la lista\n",
    "print(a.split('meat'))\n",
    "#Se come meat y divide la lista\n",
    "print(a.split())\n",
    "#Divide por palabras"
   ]
  },
  {
   "cell_type": "code",
   "execution_count": 20,
   "metadata": {},
   "outputs": [
    {
     "name": "stdout",
     "output_type": "stream",
     "text": [
      "True\n",
      "True\n",
      "False\n",
      "False\n",
      "False\n",
      "False\n"
     ]
    }
   ],
   "source": [
    "b = 'There is no business like show business.'\n",
    "\n",
    "print(b.startswith('T'))\n",
    "print(b.startswith('There'))\n",
    "print(b.startswith('there')) #case sensitive \n",
    "print(b.startswith('.'))\n",
    "print(b.startswith('business'))\n",
    "print(b.startswith('Business')) #case sensitive "
   ]
  },
  {
   "cell_type": "code",
   "execution_count": 21,
   "metadata": {},
   "outputs": [
    {
     "name": "stdout",
     "output_type": "stream",
     "text": [
      "True\n",
      "True\n",
      "False\n"
     ]
    }
   ],
   "source": [
    "print('like' in b) #Boolean\n",
    "print('business' in b)\n",
    "print('Business' in b)"
   ]
  },
  {
   "cell_type": "code",
   "execution_count": 25,
   "metadata": {},
   "outputs": [
    {
     "name": "stdout",
     "output_type": "stream",
     "text": [
      "she had a marvelous assortment of puppets\n",
      "SHE HAD A MARVELOUS ASSORTMENT OF PUPPETS\n",
      "She had a marvelous assortment of puppets\n",
      "She Had A Marvelous Assortment Of Puppets\n"
     ]
    }
   ],
   "source": [
    "c = 'shE HaD a maRveLoUs aSsoRtmeNt of PUPPETS'\n",
    "\n",
    "print(c.lower())\n",
    "print(c.upper())\n",
    "print(c.capitalize()) #solo atributos para strings, no para listas\n",
    "print(c.title())"
   ]
  },
  {
   "cell_type": "code",
   "execution_count": 26,
   "metadata": {},
   "outputs": [
    {
     "name": "stdout",
     "output_type": "stream",
     "text": [
      "I have a tendency to leave       trailing spaces.\n",
      "I have a tendency to leave       trailing spaces.\n",
      "         I have a tendency to leave       trailing spaces.\n"
     ]
    }
   ],
   "source": [
    "d = '         I have a tendency to leave       trailing spaces.'\n",
    "\n",
    "print(d.strip()) #Te quita los del principio\n",
    "print(d.lstrip()) #Te quita los de la izquierda\n",
    "print(d.rstrip()) #Te quita los de la derecha"
   ]
  },
  {
   "cell_type": "code",
   "execution_count": 1,
   "metadata": {},
   "outputs": [
    {
     "name": "stdout",
     "output_type": "stream",
     "text": [
      "I thought      the movie     was horrible!    \n",
      "I thought      the movie     was just OK!!    \n",
      "Ithoughtthemoviewaswonderful!\n"
     ]
    }
   ],
   "source": [
    "e = 'I thought      the movie     was wonderful!    '\n",
    "\n",
    "print(e.replace('wonderful', 'horrible'))\n",
    "print(e.replace('wonderful', 'just OK!'))\n",
    "print(e.replace(' ', ''))"
   ]
  },
  {
   "cell_type": "code",
   "execution_count": 2,
   "metadata": {},
   "outputs": [
    {
     "name": "stdout",
     "output_type": "stream",
     "text": [
      "['neigh']\n"
     ]
    }
   ],
   "source": [
    "#REGEX INTRODUCTION\n",
    "\n",
    "import re\n",
    "text = 'My neighout, Mr Rogers, Has 35 dogs.'\n",
    "print(re.findall('neigh', text))"
   ]
  },
  {
   "cell_type": "code",
   "execution_count": 8,
   "metadata": {},
   "outputs": [
    {
     "name": "stdout",
     "output_type": "stream",
     "text": [
      "<re.Match object; span=(35, 36), match='.'>\n"
     ]
    },
    {
     "data": {
      "text/plain": [
       "36"
      ]
     },
     "execution_count": 8,
     "metadata": {},
     "output_type": "execute_result"
    }
   ],
   "source": [
    "print(re.search('[.]', text))\n",
    "len(text)"
   ]
  },
  {
   "cell_type": "code",
   "execution_count": 9,
   "metadata": {},
   "outputs": [
    {
     "data": {
      "text/plain": [
       "'.'"
      ]
     },
     "execution_count": 9,
     "metadata": {},
     "output_type": "execute_result"
    }
   ],
   "source": [
    "text[-1]"
   ]
  },
  {
   "cell_type": "code",
   "execution_count": 10,
   "metadata": {},
   "outputs": [
    {
     "name": "stdout",
     "output_type": "stream",
     "text": [
      "['n', 'e', 'i', 'g', 'h', 'g', 'e', 'g']\n"
     ]
    }
   ],
   "source": [
    "print(re.findall('[neigh]', text)) #Diferencia entre corchetes y el texto entre 'texto', con corchetes, te busca todas las letras, no la palabra"
   ]
  },
  {
   "cell_type": "code",
   "execution_count": null,
   "metadata": {},
   "outputs": [],
   "source": []
  },
  {
   "cell_type": "code",
   "execution_count": null,
   "metadata": {},
   "outputs": [],
   "source": []
  },
  {
   "cell_type": "code",
   "execution_count": null,
   "metadata": {},
   "outputs": [],
   "source": []
  },
  {
   "cell_type": "code",
   "execution_count": null,
   "metadata": {},
   "outputs": [],
   "source": []
  },
  {
   "cell_type": "code",
   "execution_count": null,
   "metadata": {},
   "outputs": [],
   "source": []
  },
  {
   "cell_type": "code",
   "execution_count": null,
   "metadata": {},
   "outputs": [],
   "source": []
  },
  {
   "cell_type": "code",
   "execution_count": null,
   "metadata": {},
   "outputs": [],
   "source": []
  },
  {
   "cell_type": "code",
   "execution_count": null,
   "metadata": {},
   "outputs": [],
   "source": []
  },
  {
   "cell_type": "code",
   "execution_count": null,
   "metadata": {},
   "outputs": [],
   "source": []
  },
  {
   "cell_type": "code",
   "execution_count": null,
   "metadata": {},
   "outputs": [],
   "source": []
  },
  {
   "cell_type": "code",
   "execution_count": null,
   "metadata": {},
   "outputs": [],
   "source": []
  },
  {
   "cell_type": "code",
   "execution_count": null,
   "metadata": {},
   "outputs": [],
   "source": []
  },
  {
   "cell_type": "code",
   "execution_count": null,
   "metadata": {},
   "outputs": [],
   "source": []
  }
 ],
 "metadata": {
  "kernelspec": {
   "display_name": "Python 3",
   "language": "python",
   "name": "python3"
  },
  "language_info": {
   "codemirror_mode": {
    "name": "ipython",
    "version": 3
   },
   "file_extension": ".py",
   "mimetype": "text/x-python",
   "name": "python",
   "nbconvert_exporter": "python",
   "pygments_lexer": "ipython3",
   "version": "3.7.6"
  }
 },
 "nbformat": 4,
 "nbformat_minor": 4
}
